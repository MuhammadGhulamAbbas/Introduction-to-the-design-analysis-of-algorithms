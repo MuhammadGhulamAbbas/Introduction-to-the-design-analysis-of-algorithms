{
  "nbformat": 4,
  "nbformat_minor": 0,
  "metadata": {
    "colab": {
      "provenance": []
    },
    "kernelspec": {
      "name": "python3",
      "display_name": "Python 3"
    },
    "language_info": {
      "name": "python"
    }
  },
  "cells": [
    {
      "cell_type": "code",
      "execution_count": null,
      "metadata": {
        "colab": {
          "base_uri": "https://localhost:8080/"
        },
        "id": "fj1iAVaKyFGe",
        "outputId": "c365e32e-f7cb-41e7-a746-68812f94ff3e"
      },
      "outputs": [
        {
          "output_type": "stream",
          "name": "stdout",
          "text": [
            "Iteration 1: m = 1346269, n = 832040, r = 514229\n",
            "Iteration 2: m = 832040, n = 514229, r = 317811\n",
            "Iteration 3: m = 514229, n = 317811, r = 196418\n",
            "Iteration 4: m = 317811, n = 196418, r = 121393\n",
            "Iteration 5: m = 196418, n = 121393, r = 75025\n",
            "Iteration 6: m = 121393, n = 75025, r = 46368\n",
            "Iteration 7: m = 75025, n = 46368, r = 28657\n",
            "Iteration 8: m = 46368, n = 28657, r = 17711\n",
            "Iteration 9: m = 28657, n = 17711, r = 10946\n",
            "Iteration 10: m = 17711, n = 10946, r = 6765\n",
            "Iteration 11: m = 10946, n = 6765, r = 4181\n",
            "Iteration 12: m = 6765, n = 4181, r = 2584\n",
            "Iteration 13: m = 4181, n = 2584, r = 1597\n",
            "Iteration 14: m = 2584, n = 1597, r = 987\n",
            "Iteration 15: m = 1597, n = 987, r = 610\n",
            "Iteration 16: m = 987, n = 610, r = 377\n",
            "Iteration 17: m = 610, n = 377, r = 233\n",
            "Iteration 18: m = 377, n = 233, r = 144\n",
            "Iteration 19: m = 233, n = 144, r = 89\n",
            "Iteration 20: m = 144, n = 89, r = 55\n",
            "Iteration 21: m = 89, n = 55, r = 34\n",
            "Iteration 22: m = 55, n = 34, r = 21\n",
            "Iteration 23: m = 34, n = 21, r = 13\n",
            "Iteration 24: m = 21, n = 13, r = 8\n",
            "Iteration 25: m = 13, n = 8, r = 5\n",
            "Iteration 26: m = 8, n = 5, r = 3\n",
            "Iteration 27: m = 5, n = 3, r = 2\n",
            "Iteration 28: m = 3, n = 2, r = 1\n",
            "Iteration 29: m = 2, n = 1, r = 0\n",
            "GCD: 1\n",
            "Number of iterations: 29\n"
          ]
        }
      ],
      "source": [
        "def gcd(m, n):\n",
        "    i = 0\n",
        "    while n != 0:\n",
        "        r = m % n\n",
        "        print(f\"Iteration {i+1}: m = {m}, n = {n}, r = {r}\")\n",
        "        m = n\n",
        "        n = r\n",
        "        i += 1\n",
        "    print('GCD:', m)\n",
        "    print('Number of iterations:', i)\n",
        "\n",
        "# Calculate the GCD of 1346269 and 832040\n",
        "gcd(1346269, 832040)  # GCD found in 29 iterations\n",
        "\n",
        "\n",
        "\n",
        "\n"
      ]
    },
    {
      "cell_type": "code",
      "source": [],
      "metadata": {
        "id": "t5LgMFb6ywJu"
      },
      "execution_count": null,
      "outputs": []
    }
  ]
}
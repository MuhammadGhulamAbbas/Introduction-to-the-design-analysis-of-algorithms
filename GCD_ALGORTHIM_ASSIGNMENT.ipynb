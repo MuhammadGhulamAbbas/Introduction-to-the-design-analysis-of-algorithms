{
  "nbformat": 4,
  "nbformat_minor": 0,
  "metadata": {
    "colab": {
      "provenance": []
    },
    "kernelspec": {
      "name": "python3",
      "display_name": "Python 3"
    },
    "language_info": {
      "name": "python"
    }
  },
  "cells": [
    {
      "cell_type": "code",
      "execution_count": 2,
      "metadata": {
        "colab": {
          "base_uri": "https://localhost:8080/"
        },
        "id": "fj1iAVaKyFGe",
        "outputId": "19438faf-7bb8-4872-a10a-7f69d4b00350"
      },
      "outputs": [
        {
          "output_type": "stream",
          "name": "stdout",
          "text": [
            "4\n"
          ]
        }
      ],
      "source": [
        "def gcd(m, n):\n",
        "    r = m % n\n",
        "    if r == 0:\n",
        "        return n\n",
        "    else:\n",
        "        temp = n\n",
        "        n = r\n",
        "        m = temp\n",
        "        return gcd(m, n)\n",
        "\n",
        "result = gcd(8, 12)\n",
        "print(result)\n",
        "\n",
        ""
      ]
    },
    {
      "cell_type": "code",
      "source": [
        "gcd(4,16)"
      ],
      "metadata": {
        "colab": {
          "base_uri": "https://localhost:8080/"
        },
        "id": "esOK3RGfyOxc",
        "outputId": "a445d005-ea78-4788-8843-f78127f7179e"
      },
      "execution_count": 3,
      "outputs": [
        {
          "output_type": "execute_result",
          "data": {
            "text/plain": [
              "4"
            ]
          },
          "metadata": {},
          "execution_count": 3
        }
      ]
    },
    {
      "cell_type": "code",
      "source": [],
      "metadata": {
        "id": "t5LgMFb6ywJu"
      },
      "execution_count": null,
      "outputs": []
    }
  ]
}
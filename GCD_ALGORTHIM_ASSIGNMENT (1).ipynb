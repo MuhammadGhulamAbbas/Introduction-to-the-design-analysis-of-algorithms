{
  "nbformat": 4,
  "nbformat_minor": 0,
  "metadata": {
    "colab": {
      "provenance": []
    },
    "kernelspec": {
      "name": "python3",
      "display_name": "Python 3"
    },
    "language_info": {
      "name": "python"
    }
  },
  "cells": [
    {
      "cell_type": "code",
      "execution_count": 1,
      "metadata": {
        "colab": {
          "base_uri": "https://localhost:8080/"
        },
        "id": "fj1iAVaKyFGe",
        "outputId": "d4a3efe0-ae53-4458-eb94-9b46d17d45a1"
      },
      "outputs": [
        {
          "output_type": "stream",
          "name": "stdout",
          "text": [
            "4\n",
            "Best Case: 5\n",
            "Worst Case: 1\n"
          ]
        }
      ],
      "source": [
        "def gcd(m, n):\n",
        "    r = m % n\n",
        "    if r == 0:\n",
        "        return n\n",
        "    else:\n",
        "        temp = n\n",
        "        n = r\n",
        "        m = temp\n",
        "        return gcd(m, n)\n",
        "\n",
        "result = gcd(8, 12)\n",
        "print(result)\n",
        "# Best Case: Immediate return\n",
        "best_case_result = gcd(20, 5)  # m is a multiple of n\n",
        "print(\"Best Case:\", best_case_result)\n",
        "\n",
        "# Worst Case: Consecutive Fibonacci Numbers (example)\n",
        "worst_case_result = gcd(21, 34)  # Consecutive Fibonacci numbers\n",
        "print(\"Worst Case:\", worst_case_result)\n"
      ]
    },
    {
      "cell_type": "code",
      "source": [],
      "metadata": {
        "id": "t5LgMFb6ywJu"
      },
      "execution_count": null,
      "outputs": []
    }
  ]
}